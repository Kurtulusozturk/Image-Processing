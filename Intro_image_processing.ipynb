{
 "cells": [
  {
   "cell_type": "code",
   "execution_count": 2,
   "id": "0662f87a",
   "metadata": {},
   "outputs": [],
   "source": [
    "#Library\n",
    "import cv2\n",
    "import numpy as np"
   ]
  },
  {
   "cell_type": "code",
   "execution_count": 3,
   "id": "628841b2",
   "metadata": {},
   "outputs": [],
   "source": [
    "#reading, saving, displaying images\n",
    "img = cv2.imread(\"Dataset/a.jpg\")\n",
    "cv2.imwrite(\"Dataset/copy.jpg\",img)\n",
    "\n",
    "cv2.imshow(\"Yoda\",img)\n",
    "cv2.waitKey(0)\n",
    "cv2.destroyAllWindows()"
   ]
  },
  {
   "cell_type": "code",
   "execution_count": 4,
   "id": "5d6801a0",
   "metadata": {
    "scrolled": true
   },
   "outputs": [
    {
     "name": "stdout",
     "output_type": "stream",
     "text": [
      "Original image: (151, 333, 3)\n",
      "Resized image: (128, 128, 3)\n"
     ]
    }
   ],
   "source": [
    "#scaling\n",
    "img = cv2.imread(\"Dataset/a.jpg\")\n",
    "resize_img = cv2.resize(img,(128,128))\n",
    "\n",
    "print(\"Original image:\",img.shape)\n",
    "print(\"Resized image:\",resize_img.shape)\n",
    "\n",
    "cv2.imshow(\"Original image\",img)\n",
    "cv2.imshow(\"Resized image\",resize_img)\n",
    "cv2.waitKey(0)\n",
    "cv2.destroyAllWindows()"
   ]
  },
  {
   "cell_type": "code",
   "execution_count": 5,
   "id": "3a8c0595",
   "metadata": {},
   "outputs": [],
   "source": [
    "#roi(region of interes)\n",
    "img = cv2.imread(\"Dataset/a.jpg\")\n",
    "face = img [30:200, 200:400] #x aralığı y aralığı\n",
    "\n",
    "cv2.imshow(\"Original image\",img)\n",
    "cv2.imshow(\"Face\",face)\n",
    "\n",
    "cv2.waitKey(0)\n",
    "cv2.destroyAllWindows()"
   ]
  },
  {
   "cell_type": "code",
   "execution_count": 6,
   "id": "5f5950bc",
   "metadata": {},
   "outputs": [
    {
     "name": "stdout",
     "output_type": "stream",
     "text": [
      "Grayscale Image (1024, 688)\n"
     ]
    }
   ],
   "source": [
    "#colorspaces\n",
    "img = cv2.imread(\"Dataset/b.jpg\")\n",
    "img.shape\n",
    "\n",
    "gray = cv2.cvtColor(img,cv2.COLOR_BGR2GRAY)\n",
    "print(\"Grayscale Image\",gray.shape)\n",
    "\n",
    "hsv = cv2.cvtColor(img, cv2.COLOR_BGR2HSV)\n",
    "rgb = cv2.cvtColor(img, cv2.COLOR_BGR2RGB)\n",
    "\n",
    "cv2.imshow(\"Original image\",img)\n",
    "cv2.imshow(\"Grayscale Image\",gray)\n",
    "cv2.imshow(\"hsv image\",hsv)\n",
    "cv2.imshow(\"rgb Image\",rgb)\n",
    "\n",
    "cv2.waitKey(0)\n",
    "cv2.destroyAllWindows()"
   ]
  },
  {
   "cell_type": "code",
   "execution_count": 12,
   "id": "7ef962ef",
   "metadata": {},
   "outputs": [
    {
     "name": "stdout",
     "output_type": "stream",
     "text": [
      "Canva Image: (512, 512, 3)\n"
     ]
    }
   ],
   "source": [
    "#drawing functions - Line\n",
    "color = (255,255,0)\n",
    "canva = np.zeros((512,512,3),dtype=np.uint8)+100\n",
    "print(\"Canva Image:\",canva.shape)\n",
    "\n",
    "cv2.line(canva,(100,0), (200,250), color, 2)# tuval, çizilmeye başlanacak bölge, x ve y uzunluk, renk, kalınlık\n",
    "cv2.imshow(\"Canva\",canva)\n",
    "cv2.waitKey(0)\n",
    "cv2.destroyAllWindows()"
   ]
  },
  {
   "cell_type": "code",
   "execution_count": 10,
   "id": "52db7c08",
   "metadata": {},
   "outputs": [
    {
     "name": "stdout",
     "output_type": "stream",
     "text": [
      "Canva Image: (512, 512, 3)\n"
     ]
    }
   ],
   "source": [
    "#drawing functions - circle\n",
    "color = (255,255,0)\n",
    "canva = np.zeros((512,512,3),dtype=np.uint8)+100 #tuval\n",
    "print(\"Canva Image:\",canva.shape)\n",
    "\n",
    "cv2.circle(canva,(100,100), 50, color, 2)# tuval, çizilecek bölge, yarıçap, renk, kalınlık\n",
    "cv2.imshow(\"Canva\",canva)\n",
    "cv2.waitKey(0)\n",
    "cv2.destroyAllWindows()"
   ]
  },
  {
   "cell_type": "code",
   "execution_count": 20,
   "id": "09481041",
   "metadata": {},
   "outputs": [
    {
     "name": "stdout",
     "output_type": "stream",
     "text": [
      "Canva Image: (512, 512, 3)\n"
     ]
    }
   ],
   "source": [
    "#drawing functions - rectangle\n",
    "color = (255,255,0)\n",
    "canva = np.zeros((512,512,3),dtype=np.uint8)+100 #tuval\n",
    "print(\"Canva Image:\",canva.shape)\n",
    "\n",
    "cv2.rectangle(canva,(100,100),(200,150), color, 2)\n",
    "cv2.rectangle(canva,(250,250),(300,300), color, -1)\n",
    "cv2.imshow(\"Canva\",canva)\n",
    "cv2.waitKey(0)\n",
    "cv2.destroyAllWindows()"
   ]
  },
  {
   "cell_type": "code",
   "execution_count": 23,
   "id": "6bfc2861",
   "metadata": {},
   "outputs": [],
   "source": [
    "#drawing functions - text\n",
    "\"\"\"\n",
    "Fonts {\n",
    "    FONT_HERSHEY_SIMPLEX        = 0, //!< normal size sans-serif font\n",
    "    FONT_HERSHEY_PLAIN          = 1, //!< small size sans-serif font\n",
    "    FONT_HERSHEY_DUPLEX         = 2, //!< normal size sans-serif font (more complex than FONT_HERSHEY_SIMPLEX)\n",
    "    FONT_HERSHEY_COMPLEX        = 3, //!< normal size serif font\n",
    "    FONT_HERSHEY_TRIPLEX        = 4, //!< normal size serif font (more complex than FONT_HERSHEY_COMPLEX)\n",
    "    FONT_HERSHEY_COMPLEX_SMALL  = 5, //!< smaller version of FONT_HERSHEY_COMPLEX\n",
    "    FONT_HERSHEY_SCRIPT_SIMPLEX = 6, //!< hand-writing style font\n",
    "    FONT_HERSHEY_SCRIPT_COMPLEX = 7, //!< more complex variant of FONT_HERSHEY_SCRIPT_SIMPLEX\n",
    "    FONT_ITALIC                 = 16 //!< flag for italic font\n",
    "};\n",
    "\"\"\"\n",
    "color = (255,255,0)\n",
    "font = cv2.FONT_HERSHEY_COMPLEX_SMALL\n",
    "font_scale = 1\n",
    "thickness = 2\n",
    "line_type = cv2.LINE_AA\n",
    "\n",
    "canva = np.zeros((512,512,3),dtype=np.uint8)+255 #tuval\n",
    "\n",
    "cv2.putText(canva,\"Hello World\",(100,100),font,font_scale,color,thickness,line_type)\n",
    "cv2.imshow(\"Canva\",canva)\n",
    "cv2.waitKey(0)\n",
    "cv2.destroyAllWindows()"
   ]
  },
  {
   "cell_type": "code",
   "execution_count": 6,
   "id": "d268d438",
   "metadata": {},
   "outputs": [],
   "source": [
    "#video\n",
    "import cv2\n",
    "\n",
    "capture = cv2.VideoCapture(0)\n",
    "\n",
    "while True:\n",
    "    returN, frame = capture.read()\n",
    "    if returN == False:\n",
    "        break\n",
    "    resize_img = cv2.resize(frame,(640,480))\n",
    "    hsv = cv2.cvtColor(resize_img, cv2.COLOR_BGR2HSV)\n",
    "    rgb = cv2.cvtColor(resize_img, cv2.COLOR_BGR2RGB)\n",
    "    \n",
    "    cv2.imshow(\"Video\",resize_img)\n",
    "    cv2.imshow(\"hsv Video\",hsv)\n",
    "    cv2.imshow(\"rgb Video\",rgb)\n",
    "    \n",
    "    if cv2.waitKey(5) & 0xFF == ord(\"q\"):\n",
    "        break\n",
    "        \n",
    "capture.release()\n",
    "cv2.destroyAllWindows()"
   ]
  },
  {
   "cell_type": "code",
   "execution_count": null,
   "id": "8caa28aa",
   "metadata": {},
   "outputs": [],
   "source": []
  }
 ],
 "metadata": {
  "kernelspec": {
   "display_name": "Python 3 (ipykernel)",
   "language": "python",
   "name": "python3"
  },
  "language_info": {
   "codemirror_mode": {
    "name": "ipython",
    "version": 3
   },
   "file_extension": ".py",
   "mimetype": "text/x-python",
   "name": "python",
   "nbconvert_exporter": "python",
   "pygments_lexer": "ipython3",
   "version": "3.10.6"
  }
 },
 "nbformat": 4,
 "nbformat_minor": 5
}
