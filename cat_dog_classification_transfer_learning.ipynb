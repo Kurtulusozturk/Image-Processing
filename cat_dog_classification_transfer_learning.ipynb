{
 "cells": [
  {
   "cell_type": "markdown",
   "id": "2eff880b",
   "metadata": {},
   "source": [
    "# 1.Creating Model\n"
   ]
  },
  {
   "cell_type": "code",
   "execution_count": 7,
   "id": "e2cec62f",
   "metadata": {},
   "outputs": [],
   "source": [
    "from keras import layers\n",
    "from keras.models import Sequential, Model\n",
    "from keras.applications.vgg16 import VGG16\n",
    "from tensorflow.keras import optimizers\n",
    "from keras.preprocessing.image import ImageDataGenerator\n"
   ]
  },
  {
   "cell_type": "code",
   "execution_count": 8,
   "id": "afb96c97",
   "metadata": {},
   "outputs": [],
   "source": [
    "model = VGG16(include_top=False, input_shape=(224,224,3))"
   ]
  },
  {
   "cell_type": "code",
   "execution_count": 9,
   "id": "7ecf05b3",
   "metadata": {},
   "outputs": [],
   "source": [
    "for layer in model.layers:\n",
    "    layer.trainable=False"
   ]
  },
  {
   "cell_type": "code",
   "execution_count": 10,
   "id": "33c382c6",
   "metadata": {},
   "outputs": [],
   "source": [
    "\n",
    "\n",
    "#Flatten katmanı temel olarak elimizdeki veriyi düzleştirir\n",
    "flattent_layer = layers.Flatten()(model.output)\n",
    "\n",
    "fc_layer = layers.Dense(512, activation=\"relu\")(flattent_layer)# 512 çıktı verir\n",
    "output_layer = layers.Dense(1, activation=\"sigmoid\")(fc_layer) #activation sigmoid tek bir sınıfı tetikler"
   ]
  },
  {
   "cell_type": "code",
   "execution_count": 11,
   "id": "aa978e5a",
   "metadata": {},
   "outputs": [],
   "source": [
    "model = Model(inputs=model.inputs, outputs=output_layer)"
   ]
  },
  {
   "cell_type": "markdown",
   "id": "7479f771",
   "metadata": {},
   "source": [
    "# 2.Compiling Model"
   ]
  },
  {
   "cell_type": "code",
   "execution_count": 13,
   "id": "ac384ad4",
   "metadata": {},
   "outputs": [],
   "source": [
    "model.compile(loss = \"binary_crossentropy\",\n",
    "              optimizer = optimizers.RMSprop(learning_rate = 1e-4),\n",
    "              metrics = [\"acc\"])"
   ]
  },
  {
   "cell_type": "code",
   "execution_count": 14,
   "id": "58ef1c6f",
   "metadata": {},
   "outputs": [
    {
     "name": "stdout",
     "output_type": "stream",
     "text": [
      "Model: \"model\"\n",
      "_________________________________________________________________\n",
      " Layer (type)                Output Shape              Param #   \n",
      "=================================================================\n",
      " input_2 (InputLayer)        [(None, 224, 224, 3)]     0         \n",
      "                                                                 \n",
      " block1_conv1 (Conv2D)       (None, 224, 224, 64)      1792      \n",
      "                                                                 \n",
      " block1_conv2 (Conv2D)       (None, 224, 224, 64)      36928     \n",
      "                                                                 \n",
      " block1_pool (MaxPooling2D)  (None, 112, 112, 64)      0         \n",
      "                                                                 \n",
      " block2_conv1 (Conv2D)       (None, 112, 112, 128)     73856     \n",
      "                                                                 \n",
      " block2_conv2 (Conv2D)       (None, 112, 112, 128)     147584    \n",
      "                                                                 \n",
      " block2_pool (MaxPooling2D)  (None, 56, 56, 128)       0         \n",
      "                                                                 \n",
      " block3_conv1 (Conv2D)       (None, 56, 56, 256)       295168    \n",
      "                                                                 \n",
      " block3_conv2 (Conv2D)       (None, 56, 56, 256)       590080    \n",
      "                                                                 \n",
      " block3_conv3 (Conv2D)       (None, 56, 56, 256)       590080    \n",
      "                                                                 \n",
      " block3_pool (MaxPooling2D)  (None, 28, 28, 256)       0         \n",
      "                                                                 \n",
      " block4_conv1 (Conv2D)       (None, 28, 28, 512)       1180160   \n",
      "                                                                 \n",
      " block4_conv2 (Conv2D)       (None, 28, 28, 512)       2359808   \n",
      "                                                                 \n",
      " block4_conv3 (Conv2D)       (None, 28, 28, 512)       2359808   \n",
      "                                                                 \n",
      " block4_pool (MaxPooling2D)  (None, 14, 14, 512)       0         \n",
      "                                                                 \n",
      " block5_conv1 (Conv2D)       (None, 14, 14, 512)       2359808   \n",
      "                                                                 \n",
      " block5_conv2 (Conv2D)       (None, 14, 14, 512)       2359808   \n",
      "                                                                 \n",
      " block5_conv3 (Conv2D)       (None, 14, 14, 512)       2359808   \n",
      "                                                                 \n",
      " block5_pool (MaxPooling2D)  (None, 7, 7, 512)         0         \n",
      "                                                                 \n",
      " flatten_1 (Flatten)         (None, 25088)             0         \n",
      "                                                                 \n",
      " dense_2 (Dense)             (None, 512)               12845568  \n",
      "                                                                 \n",
      " dense_3 (Dense)             (None, 1)                 513       \n",
      "                                                                 \n",
      "=================================================================\n",
      "Total params: 27,560,769\n",
      "Trainable params: 12,846,081\n",
      "Non-trainable params: 14,714,688\n",
      "_________________________________________________________________\n"
     ]
    }
   ],
   "source": [
    "model.summary()"
   ]
  },
  {
   "cell_type": "code",
   "execution_count": 15,
   "id": "7577f300",
   "metadata": {},
   "outputs": [],
   "source": [
    "train_directory = \"dataset/catdog/train\"\n",
    "validation_directory = \"dataset/catdog/validation\""
   ]
  },
  {
   "cell_type": "code",
   "execution_count": 18,
   "id": "ff8b68f6",
   "metadata": {},
   "outputs": [
    {
     "name": "stdout",
     "output_type": "stream",
     "text": [
      "Found 1999 images belonging to 2 classes.\n",
      "Found 1999 images belonging to 2 classes.\n"
     ]
    }
   ],
   "source": [
    "train_datagen_x = ImageDataGenerator(rescale = 1./255,\n",
    "                                       rotation_range = 45,\n",
    "                                       width_shift_range =0.3,\n",
    "                                       height_shift_range =0.3,\n",
    "                                       shear_range = 0.3,\n",
    "                                       zoom_range = 0.3,\n",
    "                                       horizontal_flip = True,\n",
    "                                       vertical_flip = True,\n",
    "                                       fill_mode = \"nearest\")\n",
    "validation_datagen_x= ImageDataGenerator(rescale = 1./255)\n",
    "\n",
    "train_generator_x = train_datagen_x.flow_from_directory(train_directory,\n",
    "                                                        target_size = (224,224),\n",
    "                                                        batch_size = 16,\n",
    "                                                        class_mode = \"binary\")\n",
    "validation_generator_x = validation_datagen_x.flow_from_directory(train_directory,\n",
    "                                                                    target_size = (224,224),\n",
    "                                                                    batch_size = 16,\n",
    "                                                                    class_mode = \"binary\")"
   ]
  },
  {
   "cell_type": "code",
   "execution_count": 20,
   "id": "cb302579",
   "metadata": {
    "scrolled": true
   },
   "outputs": [
    {
     "name": "stderr",
     "output_type": "stream",
     "text": [
      "C:\\Users\\Kurtulus-pc\\AppData\\Local\\Temp\\ipykernel_3448\\1630355399.py:1: UserWarning: `Model.fit_generator` is deprecated and will be removed in a future version. Please use `Model.fit`, which supports generators.\n",
      "  history = model.fit_generator(train_generator_x,\n"
     ]
    },
    {
     "name": "stdout",
     "output_type": "stream",
     "text": [
      "125/125 [==============================] - 408s 3s/step - loss: 0.6038 - acc: 0.6678 - val_loss: 0.4060 - val_acc: 0.8094\n",
      "Done!!\n"
     ]
    }
   ],
   "source": [
    "history = model.fit_generator(train_generator_x,\n",
    "                              epochs = 1,\n",
    "                              validation_data = validation_generator_x,\n",
    "                              )\n",
    "print(\"Done!!\")"
   ]
  },
  {
   "cell_type": "code",
   "execution_count": 21,
   "id": "9104d898",
   "metadata": {},
   "outputs": [],
   "source": [
    "model.save(\"models/cat_dog_last.h5\")"
   ]
  }
 ],
 "metadata": {
  "kernelspec": {
   "display_name": "Python 3 (ipykernel)",
   "language": "python",
   "name": "python3"
  },
  "language_info": {
   "codemirror_mode": {
    "name": "ipython",
    "version": 3
   },
   "file_extension": ".py",
   "mimetype": "text/x-python",
   "name": "python",
   "nbconvert_exporter": "python",
   "pygments_lexer": "ipython3",
   "version": "3.10.6"
  }
 },
 "nbformat": 4,
 "nbformat_minor": 5
}
