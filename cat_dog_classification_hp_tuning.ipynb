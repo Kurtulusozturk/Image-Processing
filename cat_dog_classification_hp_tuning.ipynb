{
 "cells": [
  {
   "cell_type": "markdown",
   "id": "2eff880b",
   "metadata": {},
   "source": [
    "# 1.Creating Model\n"
   ]
  },
  {
   "cell_type": "code",
   "execution_count": 1,
   "id": "e2cec62f",
   "metadata": {},
   "outputs": [],
   "source": [
    "from keras import layers\n",
    "from keras.models import Sequential\n",
    "import keras_tuner as kt\n",
    "from tensorflow.keras import optimizers"
   ]
  },
  {
   "cell_type": "code",
   "execution_count": 4,
   "id": "33c382c6",
   "metadata": {},
   "outputs": [],
   "source": [
    "def build_model(hp):\n",
    "\n",
    "    model = Sequential()\n",
    "\n",
    "    #1. konvolisyon katmanı\n",
    "    model.add(layers.Conv2D(32,(3,3), activation=\"relu\", input_shape = (150,150,3))) \n",
    "    #1. MaxPooling katmanları\n",
    "    model.add(layers.MaxPooling2D((2,2)))\n",
    "\n",
    "    #2. konvolisyon katmanı\n",
    "    model.add(layers.Conv2D(64,(3,3), activation=\"relu\")) \n",
    "    #2. MaxPooling katmanları\n",
    "    model.add(layers.MaxPooling2D((2,2)))\n",
    "\n",
    "    #3. konvolisyon katmanı\n",
    "    model.add(layers.Conv2D(128,(3,3), activation=\"relu\")) \n",
    "    #3. MaxPooling katmanları\n",
    "    model.add(layers.MaxPooling2D((2,2)))\n",
    "\n",
    "    #4. konvolisyon katmanı\n",
    "    model.add(layers.Conv2D(128,(3,3), activation=\"relu\")) \n",
    "    #4. MaxPooling katmanları\n",
    "    model.add(layers.MaxPooling2D((2,2)))\n",
    "\n",
    "    #Flatten katmanı temel olarak elimizdeki veriyi düzleştirir\n",
    "    model.add(layers.Flatten())\n",
    "    \n",
    "    #64, 128, 256, 512  değerlerini tek tek denemek yerine tuning ile aşağıdaki şekilde 3 ünü deneme yoluna gittik\n",
    "    model.add(layers.Dense(units = hp.Choice(\"layer size\", [128,256,512]), activation=\"relu\"))\n",
    "    model.add(layers.Dense(1, activation=\"sigmoid\")) #activation sigmoid tek bir sınıfı tetikler\n",
    "    \n",
    "    model.compile(loss = \"binary_crossentropy\",\n",
    "              optimizer = optimizers.RMSprop(learning_rate = 1e-4),\n",
    "              metrics = [\"acc\"])\n",
    "    return model"
   ]
  },
  {
   "cell_type": "code",
   "execution_count": 5,
   "id": "e218d77f",
   "metadata": {},
   "outputs": [],
   "source": [
    "keras_tunner = kt.RandomSearch(build_model,\n",
    "                              objective=\"val_acc\",\n",
    "                              overwrite = True,\n",
    "                              max_trials = 3,\n",
    "                              directory = \"models/parameter_tuning\",\n",
    "                              project_name = \"parameter_tuning\")"
   ]
  },
  {
   "cell_type": "code",
   "execution_count": 6,
   "id": "7838fbd8",
   "metadata": {},
   "outputs": [],
   "source": [
    "from keras.preprocessing.image import ImageDataGenerator\n",
    "\n",
    "train_datagen = ImageDataGenerator (rescale= 1./255)\n",
    "validation_datagen = ImageDataGenerator (rescale= 1./255)"
   ]
  },
  {
   "cell_type": "code",
   "execution_count": 7,
   "id": "0d57f16d",
   "metadata": {},
   "outputs": [],
   "source": [
    "train_directory = \"dataset/catdog/train\"\n",
    "validation_directory = \"dataset/catdog/validation\""
   ]
  },
  {
   "cell_type": "code",
   "execution_count": 8,
   "id": "f17b5f69",
   "metadata": {},
   "outputs": [
    {
     "name": "stdout",
     "output_type": "stream",
     "text": [
      "Found 1999 images belonging to 2 classes.\n",
      "Found 1000 images belonging to 2 classes.\n"
     ]
    }
   ],
   "source": [
    "train_generator = train_datagen.flow_from_directory(train_directory,\n",
    "                                                    target_size = (150,150),\n",
    "                                                    batch_size = 20,\n",
    "                                                    class_mode = \"binary\")\n",
    "\n",
    "validation_generator = train_datagen.flow_from_directory(validation_directory,\n",
    "                                                    target_size = (150,150),\n",
    "                                                    batch_size = 20,\n",
    "                                                    class_mode = \"binary\")"
   ]
  },
  {
   "cell_type": "code",
   "execution_count": 10,
   "id": "ef045adc",
   "metadata": {},
   "outputs": [
    {
     "name": "stdout",
     "output_type": "stream",
     "text": [
      "Trial 3 Complete [00h 13m 20s]\n",
      "val_acc: 0.7490000128746033\n",
      "\n",
      "Best val_acc So Far: 0.7490000128746033\n",
      "Total elapsed time: 00h 41m 05s\n",
      "INFO:tensorflow:Oracle triggered exit\n"
     ]
    }
   ],
   "source": [
    "keras_tunner.search_space_summary()\n",
    "keras_tunner.search(train_generator, validation_data = validation_generator,epochs = 25)\n",
    "best_model = keras_tunner.get_best_models()[0]"
   ]
  },
  {
   "cell_type": "code",
   "execution_count": null,
   "id": "c173e751",
   "metadata": {},
   "outputs": [],
   "source": []
  }
 ],
 "metadata": {
  "kernelspec": {
   "display_name": "Python 3 (ipykernel)",
   "language": "python",
   "name": "python3"
  },
  "language_info": {
   "codemirror_mode": {
    "name": "ipython",
    "version": 3
   },
   "file_extension": ".py",
   "mimetype": "text/x-python",
   "name": "python",
   "nbconvert_exporter": "python",
   "pygments_lexer": "ipython3",
   "version": "3.10.6"
  }
 },
 "nbformat": 4,
 "nbformat_minor": 5
}
